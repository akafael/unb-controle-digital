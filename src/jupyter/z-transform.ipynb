{
 "cells": [
  {
   "cell_type": "markdown",
   "metadata": {},
   "source": [
    "Z-Transform\n",
    "===========\n",
    "\n",
    "The bilateral Z-Transform is defined as\n",
    "\n",
    "$$X(z)= \\sum^{\\infty}_{k=i-\\infty} x[k]z^{-k} $$\n",
    "\n",
    "The unilateral Z-Transform is defined as\n",
    "\n",
    "$$X(z)= \\sum^{\\infty}_{0} x[k]z^{-k} $$\n",
    "\n",
    "Review of Geometric Series\n",
    "--------------------------\n",
    "\n",
    "The sum of infinity term for geometric series is defined as\n",
    "\n",
    "$$a+ar+ar^2+ar^3+ar^4+\\cdots = \\sum_{k=0}^\\infty ar^k = \\frac{a}{1-r}, \\text{ for } |r|<1.$$\n",
    "\n",
    "ref: https://en.wikipedia.org/wiki/Geometric\\_series\n",
    "\n",
    "Reference\n",
    "---------\n",
    "\n",
    "-   https://en.wikibooks.org/wiki/Digital\\_Signal\\_Processing/Z\\_Transform\n",
    "-   https://lpsa.swarthmore.edu/LaplaceZTable/LaplaceZFuncTable.html\n",
    "-   https://github.com/spatialaudio/signals-and-systems-lecture\n",
    "-   https://github.com/alchemyst/Dynamics-and-Control"
   ]
  }
 ],
 "nbformat": 4,
 "nbformat_minor": 5,
 "metadata": {}
}
